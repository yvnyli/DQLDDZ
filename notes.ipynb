{
 "cells": [
  {
   "cell_type": "markdown",
   "id": "efdbc5f6-bfb9-4067-89ea-6fd18943d103",
   "metadata": {},
   "source": [
    "Dou dizhu\n",
    "Need to keep track\n",
    "- three players (agent or human input)\n",
    "- who has what cards\n",
    "- what has been played (who played what in what order)\n",
    "\n",
    "Agent actions:\n",
    "- not doing \"call Dizhu\" to simplify things\n",
    "- list of actions:\n",
    "- - pass is an action\n",
    "  - rocket(1): [little Joker, Big Joker]\n",
    "  - bomb(13): [3, 3, 3, 3]\n",
    "  - single(13): [4]\n",
    "  - double (13): [5, 5]\n",
    "  - triple (13): [6, 6, 6]\n",
    "  - triple plus 1 (13*12=156): [7, 7, 7, 3]\n",
    "  - triple plus double (13*12=156): [8, 8, 8, 4, 4]\n",
    "  - straight single 5 (8): [3, 4, 5, 6, 7], ..., [10, J, Q, K, A]\n",
    "  - straight single 6 (7): [3, ..., 8], ..., [9, ..., A]\n",
    "  - straight single 7 (6): [3, ..., 9], ..., [8, ..., A]\n",
    "  - straight single 8 (5): [3, ..., 10], ..., [7, ..., A]\n",
    "  - straight single 9 (4): [3, ..., J], ..., [6, ..., A]\n",
    "  - straight single 10 (3): [3, ..., Q], ..., [5, ..., A]\n",
    "  - straight single 11 (2): [3, ..., K], ..., [4, ..., A]\n",
    "  - straight single 12 (1): [3, ..., A]\n",
    "  - straight double 3 (10): [3, 3, 4, 4, 5, 5], ..., [Q, Q, K, K, A, A]\n",
    "  - straight double 4/5/6/7/8/9/10/11/12 (9/8/7/6/5/4/3/2/1): omitted\n",
    "  - straight triple 2 (11): [3, 3, 3, 4, 4, 4], ..., [K, K, K, A, A, A]\n",
    "  - straight triple 3/4/5/6/7/8/9/10/11/12 (10/9/8/7/6/5/4/3/2/1): omitted\n",
    "  - straight triple 2 plus 1 (11 * 11 * 11): e.g. [3, 3, 3, 4, 4, 4, 6, 9]\n",
    "  - straight triple 2 plus 2 (11 * 11 * 10)\n",
    "  - straight triple i plus 1 ((13-i) *\n",
    "  - four plus two 1\n",
    "  - four plus two 2\n",
    "- clearly there are too many possible actions\n",
    "- so we should try representing a card with each output layer node, needing only 54 nodes\n",
    "- if each node outputs a Q-value (linear connection), then the hand can be e.g. all cards that are above a threshold\n",
    "\n",
    "Environment feedback:\n",
    "- environment needs to check if the chosen action is legal (is a legal hand given the previous player's action, and consists only cards in the agent's hand)\n",
    "- if it is legal, give small reward and update state\n",
    "- if it is not legal, give small punishment and ask for another action (will this cause agent to get stuck?)\n",
    "- winning, large reward\n",
    "- losing, large punishment\n",
    "- if playing peasant and the other peasant wins, small reward\n",
    "- maybe having other players pass should be also rewarded, player-2(+1) pass is smaller than player-1 pass\n",
    "- when agent plays pass, if agent and the next player are both peasants, then small reward, otherwise small punishment\n",
    "\n",
    "What should be input to the agent: 165 (include optional: 273) nodes\n",
    "- current hand (54 nodes binary)\n",
    "- is self peasant (1 node binary)\n",
    "- is player-2 teammate or enemy (1 node binary)\n",
    "- is player-1 teammate or enemy (1 node binary)\n",
    "- player-1's past hand (54 nodes binary)\n",
    "- player-2's past hand (54 nodes binary)\n",
    "- optional: all of player-2's history (54 nodes binary)\n",
    "- optional: all of player-1's history (54 nodes binary)"
   ]
  }
 ],
 "metadata": {
  "kernelspec": {
   "display_name": "Python 3 (ipykernel)",
   "language": "python",
   "name": "python3"
  },
  "language_info": {
   "codemirror_mode": {
    "name": "ipython",
    "version": 3
   },
   "file_extension": ".py",
   "mimetype": "text/x-python",
   "name": "python",
   "nbconvert_exporter": "python",
   "pygments_lexer": "ipython3",
   "version": "3.12.4"
  }
 },
 "nbformat": 4,
 "nbformat_minor": 5
}
